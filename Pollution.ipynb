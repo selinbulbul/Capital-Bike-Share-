{
 "cells": [
  {
   "cell_type": "code",
   "execution_count": 1,
   "metadata": {},
   "outputs": [],
   "source": [
    "import numpy as np\n",
    "import pandas as pd\n",
    "import matplotlib.pyplot as plt\n",
    "import seaborn as sb\n",
    "from pandas import DataFrame\n",
    "from collections import Counter\n",
    "sb.set_style(\"whitegrid\")\n",
    "\n"
   ]
  },
  {
   "cell_type": "code",
   "execution_count": 2,
   "metadata": {},
   "outputs": [],
   "source": [
    "pollution = pd.read_csv('day-pollution.csv') "
   ]
  },
  {
   "cell_type": "code",
   "execution_count": 3,
   "metadata": {
    "scrolled": true
   },
   "outputs": [
    {
     "data": {
      "text/html": [
       "<div>\n",
       "<style scoped>\n",
       "    .dataframe tbody tr th:only-of-type {\n",
       "        vertical-align: middle;\n",
       "    }\n",
       "\n",
       "    .dataframe tbody tr th {\n",
       "        vertical-align: top;\n",
       "    }\n",
       "\n",
       "    .dataframe thead th {\n",
       "        text-align: right;\n",
       "    }\n",
       "</style>\n",
       "<table border=\"1\" class=\"dataframe\">\n",
       "  <thead>\n",
       "    <tr style=\"text-align: right;\">\n",
       "      <th></th>\n",
       "      <th>Unnamed: 0</th>\n",
       "      <th>instant</th>\n",
       "      <th>dteday</th>\n",
       "      <th>season</th>\n",
       "      <th>yr</th>\n",
       "      <th>mnth</th>\n",
       "      <th>holiday</th>\n",
       "      <th>weekday</th>\n",
       "      <th>workingday</th>\n",
       "      <th>weathersit</th>\n",
       "      <th>temp</th>\n",
       "      <th>atemp</th>\n",
       "      <th>hum</th>\n",
       "      <th>windspeed</th>\n",
       "      <th>casual</th>\n",
       "      <th>registered</th>\n",
       "      <th>cnt</th>\n",
       "      <th>aqi_label</th>\n",
       "      <th>aqi_reading</th>\n",
       "    </tr>\n",
       "  </thead>\n",
       "  <tbody>\n",
       "    <tr>\n",
       "      <th>0</th>\n",
       "      <td>1</td>\n",
       "      <td>2</td>\n",
       "      <td>1/2/2011</td>\n",
       "      <td>1</td>\n",
       "      <td>0</td>\n",
       "      <td>1</td>\n",
       "      <td>0</td>\n",
       "      <td>0</td>\n",
       "      <td>0</td>\n",
       "      <td>2</td>\n",
       "      <td>0.363478</td>\n",
       "      <td>0.353739</td>\n",
       "      <td>0.696087</td>\n",
       "      <td>0.248539</td>\n",
       "      <td>131</td>\n",
       "      <td>670</td>\n",
       "      <td>801</td>\n",
       "      <td>1</td>\n",
       "      <td>46</td>\n",
       "    </tr>\n",
       "    <tr>\n",
       "      <th>1</th>\n",
       "      <td>2</td>\n",
       "      <td>3</td>\n",
       "      <td>1/3/2011</td>\n",
       "      <td>1</td>\n",
       "      <td>0</td>\n",
       "      <td>1</td>\n",
       "      <td>0</td>\n",
       "      <td>1</td>\n",
       "      <td>1</td>\n",
       "      <td>1</td>\n",
       "      <td>0.196364</td>\n",
       "      <td>0.189405</td>\n",
       "      <td>0.437273</td>\n",
       "      <td>0.248309</td>\n",
       "      <td>120</td>\n",
       "      <td>1229</td>\n",
       "      <td>1349</td>\n",
       "      <td>1</td>\n",
       "      <td>39</td>\n",
       "    </tr>\n",
       "    <tr>\n",
       "      <th>2</th>\n",
       "      <td>12</td>\n",
       "      <td>13</td>\n",
       "      <td>1/13/2011</td>\n",
       "      <td>1</td>\n",
       "      <td>0</td>\n",
       "      <td>1</td>\n",
       "      <td>0</td>\n",
       "      <td>4</td>\n",
       "      <td>1</td>\n",
       "      <td>1</td>\n",
       "      <td>0.165000</td>\n",
       "      <td>0.150883</td>\n",
       "      <td>0.470417</td>\n",
       "      <td>0.301000</td>\n",
       "      <td>38</td>\n",
       "      <td>1368</td>\n",
       "      <td>1406</td>\n",
       "      <td>1</td>\n",
       "      <td>38</td>\n",
       "    </tr>\n",
       "    <tr>\n",
       "      <th>3</th>\n",
       "      <td>32</td>\n",
       "      <td>33</td>\n",
       "      <td>2/2/2011</td>\n",
       "      <td>1</td>\n",
       "      <td>0</td>\n",
       "      <td>2</td>\n",
       "      <td>0</td>\n",
       "      <td>3</td>\n",
       "      <td>1</td>\n",
       "      <td>2</td>\n",
       "      <td>0.260000</td>\n",
       "      <td>0.254417</td>\n",
       "      <td>0.775417</td>\n",
       "      <td>0.264308</td>\n",
       "      <td>72</td>\n",
       "      <td>1454</td>\n",
       "      <td>1526</td>\n",
       "      <td>1</td>\n",
       "      <td>50</td>\n",
       "    </tr>\n",
       "    <tr>\n",
       "      <th>4</th>\n",
       "      <td>33</td>\n",
       "      <td>34</td>\n",
       "      <td>2/3/2011</td>\n",
       "      <td>1</td>\n",
       "      <td>0</td>\n",
       "      <td>2</td>\n",
       "      <td>0</td>\n",
       "      <td>4</td>\n",
       "      <td>1</td>\n",
       "      <td>1</td>\n",
       "      <td>0.186957</td>\n",
       "      <td>0.177878</td>\n",
       "      <td>0.437826</td>\n",
       "      <td>0.277752</td>\n",
       "      <td>61</td>\n",
       "      <td>1489</td>\n",
       "      <td>1550</td>\n",
       "      <td>1</td>\n",
       "      <td>39</td>\n",
       "    </tr>\n",
       "    <tr>\n",
       "      <th>...</th>\n",
       "      <td>...</td>\n",
       "      <td>...</td>\n",
       "      <td>...</td>\n",
       "      <td>...</td>\n",
       "      <td>...</td>\n",
       "      <td>...</td>\n",
       "      <td>...</td>\n",
       "      <td>...</td>\n",
       "      <td>...</td>\n",
       "      <td>...</td>\n",
       "      <td>...</td>\n",
       "      <td>...</td>\n",
       "      <td>...</td>\n",
       "      <td>...</td>\n",
       "      <td>...</td>\n",
       "      <td>...</td>\n",
       "      <td>...</td>\n",
       "      <td>...</td>\n",
       "      <td>...</td>\n",
       "    </tr>\n",
       "    <tr>\n",
       "      <th>726</th>\n",
       "      <td>158</td>\n",
       "      <td>159</td>\n",
       "      <td>6/8/2011</td>\n",
       "      <td>2</td>\n",
       "      <td>0</td>\n",
       "      <td>6</td>\n",
       "      <td>0</td>\n",
       "      <td>3</td>\n",
       "      <td>1</td>\n",
       "      <td>1</td>\n",
       "      <td>0.775833</td>\n",
       "      <td>0.727279</td>\n",
       "      <td>0.622083</td>\n",
       "      <td>0.136817</td>\n",
       "      <td>676</td>\n",
       "      <td>3725</td>\n",
       "      <td>4401</td>\n",
       "      <td>4</td>\n",
       "      <td>209</td>\n",
       "    </tr>\n",
       "    <tr>\n",
       "      <th>727</th>\n",
       "      <td>159</td>\n",
       "      <td>160</td>\n",
       "      <td>6/9/2011</td>\n",
       "      <td>2</td>\n",
       "      <td>0</td>\n",
       "      <td>6</td>\n",
       "      <td>0</td>\n",
       "      <td>4</td>\n",
       "      <td>1</td>\n",
       "      <td>2</td>\n",
       "      <td>0.808333</td>\n",
       "      <td>0.757579</td>\n",
       "      <td>0.568333</td>\n",
       "      <td>0.149883</td>\n",
       "      <td>563</td>\n",
       "      <td>3352</td>\n",
       "      <td>3915</td>\n",
       "      <td>4</td>\n",
       "      <td>201</td>\n",
       "    </tr>\n",
       "    <tr>\n",
       "      <th>728</th>\n",
       "      <td>182</td>\n",
       "      <td>183</td>\n",
       "      <td>7/2/2011</td>\n",
       "      <td>3</td>\n",
       "      <td>0</td>\n",
       "      <td>7</td>\n",
       "      <td>0</td>\n",
       "      <td>6</td>\n",
       "      <td>0</td>\n",
       "      <td>1</td>\n",
       "      <td>0.738333</td>\n",
       "      <td>0.667308</td>\n",
       "      <td>0.444583</td>\n",
       "      <td>0.115062</td>\n",
       "      <td>2204</td>\n",
       "      <td>2915</td>\n",
       "      <td>5119</td>\n",
       "      <td>4</td>\n",
       "      <td>202</td>\n",
       "    </tr>\n",
       "    <tr>\n",
       "      <th>729</th>\n",
       "      <td>545</td>\n",
       "      <td>546</td>\n",
       "      <td>6/29/2012</td>\n",
       "      <td>3</td>\n",
       "      <td>1</td>\n",
       "      <td>6</td>\n",
       "      <td>0</td>\n",
       "      <td>5</td>\n",
       "      <td>1</td>\n",
       "      <td>1</td>\n",
       "      <td>0.834167</td>\n",
       "      <td>0.786613</td>\n",
       "      <td>0.488750</td>\n",
       "      <td>0.165417</td>\n",
       "      <td>829</td>\n",
       "      <td>4634</td>\n",
       "      <td>5463</td>\n",
       "      <td>4</td>\n",
       "      <td>212</td>\n",
       "    </tr>\n",
       "    <tr>\n",
       "      <th>730</th>\n",
       "      <td>552</td>\n",
       "      <td>553</td>\n",
       "      <td>7/6/2012</td>\n",
       "      <td>3</td>\n",
       "      <td>1</td>\n",
       "      <td>7</td>\n",
       "      <td>0</td>\n",
       "      <td>5</td>\n",
       "      <td>1</td>\n",
       "      <td>1</td>\n",
       "      <td>0.828333</td>\n",
       "      <td>0.752533</td>\n",
       "      <td>0.450833</td>\n",
       "      <td>0.146142</td>\n",
       "      <td>1366</td>\n",
       "      <td>4841</td>\n",
       "      <td>6207</td>\n",
       "      <td>4</td>\n",
       "      <td>201</td>\n",
       "    </tr>\n",
       "  </tbody>\n",
       "</table>\n",
       "<p>731 rows × 19 columns</p>\n",
       "</div>"
      ],
      "text/plain": [
       "     Unnamed: 0  instant     dteday  season  yr  mnth  holiday  weekday  \\\n",
       "0             1        2   1/2/2011       1   0     1        0        0   \n",
       "1             2        3   1/3/2011       1   0     1        0        1   \n",
       "2            12       13  1/13/2011       1   0     1        0        4   \n",
       "3            32       33   2/2/2011       1   0     2        0        3   \n",
       "4            33       34   2/3/2011       1   0     2        0        4   \n",
       "..          ...      ...        ...     ...  ..   ...      ...      ...   \n",
       "726         158      159   6/8/2011       2   0     6        0        3   \n",
       "727         159      160   6/9/2011       2   0     6        0        4   \n",
       "728         182      183   7/2/2011       3   0     7        0        6   \n",
       "729         545      546  6/29/2012       3   1     6        0        5   \n",
       "730         552      553   7/6/2012       3   1     7        0        5   \n",
       "\n",
       "     workingday  weathersit      temp     atemp       hum  windspeed  casual  \\\n",
       "0             0           2  0.363478  0.353739  0.696087   0.248539     131   \n",
       "1             1           1  0.196364  0.189405  0.437273   0.248309     120   \n",
       "2             1           1  0.165000  0.150883  0.470417   0.301000      38   \n",
       "3             1           2  0.260000  0.254417  0.775417   0.264308      72   \n",
       "4             1           1  0.186957  0.177878  0.437826   0.277752      61   \n",
       "..          ...         ...       ...       ...       ...        ...     ...   \n",
       "726           1           1  0.775833  0.727279  0.622083   0.136817     676   \n",
       "727           1           2  0.808333  0.757579  0.568333   0.149883     563   \n",
       "728           0           1  0.738333  0.667308  0.444583   0.115062    2204   \n",
       "729           1           1  0.834167  0.786613  0.488750   0.165417     829   \n",
       "730           1           1  0.828333  0.752533  0.450833   0.146142    1366   \n",
       "\n",
       "     registered   cnt  aqi_label  aqi_reading  \n",
       "0           670   801          1           46  \n",
       "1          1229  1349          1           39  \n",
       "2          1368  1406          1           38  \n",
       "3          1454  1526          1           50  \n",
       "4          1489  1550          1           39  \n",
       "..          ...   ...        ...          ...  \n",
       "726        3725  4401          4          209  \n",
       "727        3352  3915          4          201  \n",
       "728        2915  5119          4          202  \n",
       "729        4634  5463          4          212  \n",
       "730        4841  6207          4          201  \n",
       "\n",
       "[731 rows x 19 columns]"
      ]
     },
     "execution_count": 3,
     "metadata": {},
     "output_type": "execute_result"
    }
   ],
   "source": [
    "pollution"
   ]
  },
  {
   "cell_type": "code",
   "execution_count": 4,
   "metadata": {},
   "outputs": [],
   "source": [
    "pollution['aqi_label_1'] = pollution['aqi_label'].apply(lambda x : \"Good\" if x==1 else \"Satisfactory\" if x == 2 else \"Moderate\" if x == 3 else \"Moderate-High\")   "
   ]
  },
  {
   "cell_type": "code",
   "execution_count": 5,
   "metadata": {
    "scrolled": true
   },
   "outputs": [
    {
     "data": {
      "text/html": [
       "<div>\n",
       "<style scoped>\n",
       "    .dataframe tbody tr th:only-of-type {\n",
       "        vertical-align: middle;\n",
       "    }\n",
       "\n",
       "    .dataframe tbody tr th {\n",
       "        vertical-align: top;\n",
       "    }\n",
       "\n",
       "    .dataframe thead th {\n",
       "        text-align: right;\n",
       "    }\n",
       "</style>\n",
       "<table border=\"1\" class=\"dataframe\">\n",
       "  <thead>\n",
       "    <tr style=\"text-align: right;\">\n",
       "      <th></th>\n",
       "      <th>Unnamed: 0</th>\n",
       "      <th>instant</th>\n",
       "      <th>dteday</th>\n",
       "      <th>season</th>\n",
       "      <th>yr</th>\n",
       "      <th>mnth</th>\n",
       "      <th>holiday</th>\n",
       "      <th>weekday</th>\n",
       "      <th>workingday</th>\n",
       "      <th>weathersit</th>\n",
       "      <th>temp</th>\n",
       "      <th>atemp</th>\n",
       "      <th>hum</th>\n",
       "      <th>windspeed</th>\n",
       "      <th>casual</th>\n",
       "      <th>registered</th>\n",
       "      <th>cnt</th>\n",
       "      <th>aqi_label</th>\n",
       "      <th>aqi_reading</th>\n",
       "      <th>aqi_label_1</th>\n",
       "    </tr>\n",
       "  </thead>\n",
       "  <tbody>\n",
       "    <tr>\n",
       "      <th>0</th>\n",
       "      <td>1</td>\n",
       "      <td>2</td>\n",
       "      <td>1/2/2011</td>\n",
       "      <td>1</td>\n",
       "      <td>0</td>\n",
       "      <td>1</td>\n",
       "      <td>0</td>\n",
       "      <td>0</td>\n",
       "      <td>0</td>\n",
       "      <td>2</td>\n",
       "      <td>0.363478</td>\n",
       "      <td>0.353739</td>\n",
       "      <td>0.696087</td>\n",
       "      <td>0.248539</td>\n",
       "      <td>131</td>\n",
       "      <td>670</td>\n",
       "      <td>801</td>\n",
       "      <td>1</td>\n",
       "      <td>46</td>\n",
       "      <td>Good</td>\n",
       "    </tr>\n",
       "    <tr>\n",
       "      <th>1</th>\n",
       "      <td>2</td>\n",
       "      <td>3</td>\n",
       "      <td>1/3/2011</td>\n",
       "      <td>1</td>\n",
       "      <td>0</td>\n",
       "      <td>1</td>\n",
       "      <td>0</td>\n",
       "      <td>1</td>\n",
       "      <td>1</td>\n",
       "      <td>1</td>\n",
       "      <td>0.196364</td>\n",
       "      <td>0.189405</td>\n",
       "      <td>0.437273</td>\n",
       "      <td>0.248309</td>\n",
       "      <td>120</td>\n",
       "      <td>1229</td>\n",
       "      <td>1349</td>\n",
       "      <td>1</td>\n",
       "      <td>39</td>\n",
       "      <td>Good</td>\n",
       "    </tr>\n",
       "    <tr>\n",
       "      <th>2</th>\n",
       "      <td>12</td>\n",
       "      <td>13</td>\n",
       "      <td>1/13/2011</td>\n",
       "      <td>1</td>\n",
       "      <td>0</td>\n",
       "      <td>1</td>\n",
       "      <td>0</td>\n",
       "      <td>4</td>\n",
       "      <td>1</td>\n",
       "      <td>1</td>\n",
       "      <td>0.165000</td>\n",
       "      <td>0.150883</td>\n",
       "      <td>0.470417</td>\n",
       "      <td>0.301000</td>\n",
       "      <td>38</td>\n",
       "      <td>1368</td>\n",
       "      <td>1406</td>\n",
       "      <td>1</td>\n",
       "      <td>38</td>\n",
       "      <td>Good</td>\n",
       "    </tr>\n",
       "    <tr>\n",
       "      <th>3</th>\n",
       "      <td>32</td>\n",
       "      <td>33</td>\n",
       "      <td>2/2/2011</td>\n",
       "      <td>1</td>\n",
       "      <td>0</td>\n",
       "      <td>2</td>\n",
       "      <td>0</td>\n",
       "      <td>3</td>\n",
       "      <td>1</td>\n",
       "      <td>2</td>\n",
       "      <td>0.260000</td>\n",
       "      <td>0.254417</td>\n",
       "      <td>0.775417</td>\n",
       "      <td>0.264308</td>\n",
       "      <td>72</td>\n",
       "      <td>1454</td>\n",
       "      <td>1526</td>\n",
       "      <td>1</td>\n",
       "      <td>50</td>\n",
       "      <td>Good</td>\n",
       "    </tr>\n",
       "    <tr>\n",
       "      <th>4</th>\n",
       "      <td>33</td>\n",
       "      <td>34</td>\n",
       "      <td>2/3/2011</td>\n",
       "      <td>1</td>\n",
       "      <td>0</td>\n",
       "      <td>2</td>\n",
       "      <td>0</td>\n",
       "      <td>4</td>\n",
       "      <td>1</td>\n",
       "      <td>1</td>\n",
       "      <td>0.186957</td>\n",
       "      <td>0.177878</td>\n",
       "      <td>0.437826</td>\n",
       "      <td>0.277752</td>\n",
       "      <td>61</td>\n",
       "      <td>1489</td>\n",
       "      <td>1550</td>\n",
       "      <td>1</td>\n",
       "      <td>39</td>\n",
       "      <td>Good</td>\n",
       "    </tr>\n",
       "    <tr>\n",
       "      <th>...</th>\n",
       "      <td>...</td>\n",
       "      <td>...</td>\n",
       "      <td>...</td>\n",
       "      <td>...</td>\n",
       "      <td>...</td>\n",
       "      <td>...</td>\n",
       "      <td>...</td>\n",
       "      <td>...</td>\n",
       "      <td>...</td>\n",
       "      <td>...</td>\n",
       "      <td>...</td>\n",
       "      <td>...</td>\n",
       "      <td>...</td>\n",
       "      <td>...</td>\n",
       "      <td>...</td>\n",
       "      <td>...</td>\n",
       "      <td>...</td>\n",
       "      <td>...</td>\n",
       "      <td>...</td>\n",
       "      <td>...</td>\n",
       "    </tr>\n",
       "    <tr>\n",
       "      <th>726</th>\n",
       "      <td>158</td>\n",
       "      <td>159</td>\n",
       "      <td>6/8/2011</td>\n",
       "      <td>2</td>\n",
       "      <td>0</td>\n",
       "      <td>6</td>\n",
       "      <td>0</td>\n",
       "      <td>3</td>\n",
       "      <td>1</td>\n",
       "      <td>1</td>\n",
       "      <td>0.775833</td>\n",
       "      <td>0.727279</td>\n",
       "      <td>0.622083</td>\n",
       "      <td>0.136817</td>\n",
       "      <td>676</td>\n",
       "      <td>3725</td>\n",
       "      <td>4401</td>\n",
       "      <td>4</td>\n",
       "      <td>209</td>\n",
       "      <td>Moderate-High</td>\n",
       "    </tr>\n",
       "    <tr>\n",
       "      <th>727</th>\n",
       "      <td>159</td>\n",
       "      <td>160</td>\n",
       "      <td>6/9/2011</td>\n",
       "      <td>2</td>\n",
       "      <td>0</td>\n",
       "      <td>6</td>\n",
       "      <td>0</td>\n",
       "      <td>4</td>\n",
       "      <td>1</td>\n",
       "      <td>2</td>\n",
       "      <td>0.808333</td>\n",
       "      <td>0.757579</td>\n",
       "      <td>0.568333</td>\n",
       "      <td>0.149883</td>\n",
       "      <td>563</td>\n",
       "      <td>3352</td>\n",
       "      <td>3915</td>\n",
       "      <td>4</td>\n",
       "      <td>201</td>\n",
       "      <td>Moderate-High</td>\n",
       "    </tr>\n",
       "    <tr>\n",
       "      <th>728</th>\n",
       "      <td>182</td>\n",
       "      <td>183</td>\n",
       "      <td>7/2/2011</td>\n",
       "      <td>3</td>\n",
       "      <td>0</td>\n",
       "      <td>7</td>\n",
       "      <td>0</td>\n",
       "      <td>6</td>\n",
       "      <td>0</td>\n",
       "      <td>1</td>\n",
       "      <td>0.738333</td>\n",
       "      <td>0.667308</td>\n",
       "      <td>0.444583</td>\n",
       "      <td>0.115062</td>\n",
       "      <td>2204</td>\n",
       "      <td>2915</td>\n",
       "      <td>5119</td>\n",
       "      <td>4</td>\n",
       "      <td>202</td>\n",
       "      <td>Moderate-High</td>\n",
       "    </tr>\n",
       "    <tr>\n",
       "      <th>729</th>\n",
       "      <td>545</td>\n",
       "      <td>546</td>\n",
       "      <td>6/29/2012</td>\n",
       "      <td>3</td>\n",
       "      <td>1</td>\n",
       "      <td>6</td>\n",
       "      <td>0</td>\n",
       "      <td>5</td>\n",
       "      <td>1</td>\n",
       "      <td>1</td>\n",
       "      <td>0.834167</td>\n",
       "      <td>0.786613</td>\n",
       "      <td>0.488750</td>\n",
       "      <td>0.165417</td>\n",
       "      <td>829</td>\n",
       "      <td>4634</td>\n",
       "      <td>5463</td>\n",
       "      <td>4</td>\n",
       "      <td>212</td>\n",
       "      <td>Moderate-High</td>\n",
       "    </tr>\n",
       "    <tr>\n",
       "      <th>730</th>\n",
       "      <td>552</td>\n",
       "      <td>553</td>\n",
       "      <td>7/6/2012</td>\n",
       "      <td>3</td>\n",
       "      <td>1</td>\n",
       "      <td>7</td>\n",
       "      <td>0</td>\n",
       "      <td>5</td>\n",
       "      <td>1</td>\n",
       "      <td>1</td>\n",
       "      <td>0.828333</td>\n",
       "      <td>0.752533</td>\n",
       "      <td>0.450833</td>\n",
       "      <td>0.146142</td>\n",
       "      <td>1366</td>\n",
       "      <td>4841</td>\n",
       "      <td>6207</td>\n",
       "      <td>4</td>\n",
       "      <td>201</td>\n",
       "      <td>Moderate-High</td>\n",
       "    </tr>\n",
       "  </tbody>\n",
       "</table>\n",
       "<p>731 rows × 20 columns</p>\n",
       "</div>"
      ],
      "text/plain": [
       "     Unnamed: 0  instant     dteday  season  yr  mnth  holiday  weekday  \\\n",
       "0             1        2   1/2/2011       1   0     1        0        0   \n",
       "1             2        3   1/3/2011       1   0     1        0        1   \n",
       "2            12       13  1/13/2011       1   0     1        0        4   \n",
       "3            32       33   2/2/2011       1   0     2        0        3   \n",
       "4            33       34   2/3/2011       1   0     2        0        4   \n",
       "..          ...      ...        ...     ...  ..   ...      ...      ...   \n",
       "726         158      159   6/8/2011       2   0     6        0        3   \n",
       "727         159      160   6/9/2011       2   0     6        0        4   \n",
       "728         182      183   7/2/2011       3   0     7        0        6   \n",
       "729         545      546  6/29/2012       3   1     6        0        5   \n",
       "730         552      553   7/6/2012       3   1     7        0        5   \n",
       "\n",
       "     workingday  weathersit      temp     atemp       hum  windspeed  casual  \\\n",
       "0             0           2  0.363478  0.353739  0.696087   0.248539     131   \n",
       "1             1           1  0.196364  0.189405  0.437273   0.248309     120   \n",
       "2             1           1  0.165000  0.150883  0.470417   0.301000      38   \n",
       "3             1           2  0.260000  0.254417  0.775417   0.264308      72   \n",
       "4             1           1  0.186957  0.177878  0.437826   0.277752      61   \n",
       "..          ...         ...       ...       ...       ...        ...     ...   \n",
       "726           1           1  0.775833  0.727279  0.622083   0.136817     676   \n",
       "727           1           2  0.808333  0.757579  0.568333   0.149883     563   \n",
       "728           0           1  0.738333  0.667308  0.444583   0.115062    2204   \n",
       "729           1           1  0.834167  0.786613  0.488750   0.165417     829   \n",
       "730           1           1  0.828333  0.752533  0.450833   0.146142    1366   \n",
       "\n",
       "     registered   cnt  aqi_label  aqi_reading    aqi_label_1  \n",
       "0           670   801          1           46           Good  \n",
       "1          1229  1349          1           39           Good  \n",
       "2          1368  1406          1           38           Good  \n",
       "3          1454  1526          1           50           Good  \n",
       "4          1489  1550          1           39           Good  \n",
       "..          ...   ...        ...          ...            ...  \n",
       "726        3725  4401          4          209  Moderate-High  \n",
       "727        3352  3915          4          201  Moderate-High  \n",
       "728        2915  5119          4          202  Moderate-High  \n",
       "729        4634  5463          4          212  Moderate-High  \n",
       "730        4841  6207          4          201  Moderate-High  \n",
       "\n",
       "[731 rows x 20 columns]"
      ]
     },
     "execution_count": 5,
     "metadata": {},
     "output_type": "execute_result"
    }
   ],
   "source": [
    "pollution"
   ]
  },
  {
   "cell_type": "code",
   "execution_count": 7,
   "metadata": {},
   "outputs": [],
   "source": [
    "pollution['weathersit_1'] = pollution['weathersit'].apply(lambda x : \"Clear-Cloudy\" if x==1 else \"Mist-Cloudy\" if x == 2 else \"Light Rainy-Snowy\" if x == 3 else \"Heavy Rain-Snowy\")   "
   ]
  },
  {
   "cell_type": "code",
   "execution_count": 8,
   "metadata": {},
   "outputs": [
    {
     "name": "stdout",
     "output_type": "stream",
     "text": [
      "<class 'pandas.core.frame.DataFrame'>\n",
      "RangeIndex: 731 entries, 0 to 730\n",
      "Data columns (total 21 columns):\n",
      " #   Column        Non-Null Count  Dtype  \n",
      "---  ------        --------------  -----  \n",
      " 0   Unnamed: 0    731 non-null    int64  \n",
      " 1   instant       731 non-null    int64  \n",
      " 2   dteday        731 non-null    object \n",
      " 3   season        731 non-null    int64  \n",
      " 4   yr            731 non-null    int64  \n",
      " 5   mnth          731 non-null    int64  \n",
      " 6   holiday       731 non-null    int64  \n",
      " 7   weekday       731 non-null    int64  \n",
      " 8   workingday    731 non-null    int64  \n",
      " 9   weathersit    731 non-null    int64  \n",
      " 10  temp          731 non-null    float64\n",
      " 11  atemp         731 non-null    float64\n",
      " 12  hum           731 non-null    float64\n",
      " 13  windspeed     731 non-null    float64\n",
      " 14  casual        731 non-null    int64  \n",
      " 15  registered    731 non-null    int64  \n",
      " 16  cnt           731 non-null    int64  \n",
      " 17  aqi_label     731 non-null    int64  \n",
      " 18  aqi_reading   731 non-null    int64  \n",
      " 19  aqi_label_1   731 non-null    object \n",
      " 20  weathersit_1  731 non-null    object \n",
      "dtypes: float64(4), int64(14), object(3)\n",
      "memory usage: 120.1+ KB\n"
     ]
    }
   ],
   "source": [
    "pollution.info()"
   ]
  },
  {
   "cell_type": "code",
   "execution_count": 11,
   "metadata": {},
   "outputs": [],
   "source": [
    "pollution[\"dteday\"]= pd.to_datetime(pollution[\"dteday\"])"
   ]
  },
  {
   "cell_type": "code",
   "execution_count": 12,
   "metadata": {
    "scrolled": true
   },
   "outputs": [
    {
     "name": "stdout",
     "output_type": "stream",
     "text": [
      "<class 'pandas.core.frame.DataFrame'>\n",
      "RangeIndex: 731 entries, 0 to 730\n",
      "Data columns (total 21 columns):\n",
      " #   Column        Non-Null Count  Dtype         \n",
      "---  ------        --------------  -----         \n",
      " 0   Unnamed: 0    731 non-null    int64         \n",
      " 1   instant       731 non-null    int64         \n",
      " 2   dteday        731 non-null    datetime64[ns]\n",
      " 3   season        731 non-null    int64         \n",
      " 4   yr            731 non-null    int64         \n",
      " 5   mnth          731 non-null    int64         \n",
      " 6   holiday       731 non-null    int64         \n",
      " 7   weekday       731 non-null    int64         \n",
      " 8   workingday    731 non-null    int64         \n",
      " 9   weathersit    731 non-null    int64         \n",
      " 10  temp          731 non-null    float64       \n",
      " 11  atemp         731 non-null    float64       \n",
      " 12  hum           731 non-null    float64       \n",
      " 13  windspeed     731 non-null    float64       \n",
      " 14  casual        731 non-null    int64         \n",
      " 15  registered    731 non-null    int64         \n",
      " 16  cnt           731 non-null    int64         \n",
      " 17  aqi_label     731 non-null    int64         \n",
      " 18  aqi_reading   731 non-null    int64         \n",
      " 19  aqi_label_1   731 non-null    object        \n",
      " 20  weathersit_1  731 non-null    object        \n",
      "dtypes: datetime64[ns](1), float64(4), int64(14), object(2)\n",
      "memory usage: 120.1+ KB\n"
     ]
    }
   ],
   "source": [
    "pollution.info()"
   ]
  },
  {
   "cell_type": "code",
   "execution_count": 13,
   "metadata": {},
   "outputs": [],
   "source": [
    "pollution.temp = pollution.temp*47 - 8"
   ]
  },
  {
   "cell_type": "code",
   "execution_count": 14,
   "metadata": {
    "scrolled": true
   },
   "outputs": [
    {
     "data": {
      "image/png": "[encoded data removed]",
      "text/plain": [
       "<Figure size 432x288 with 1 Axes>"
      ]
     },
     "metadata": {},
     "output_type": "display_data"
    }
   ],
   "source": [
    "pollution.temp.hist(bins= 50);"
   ]
  },
  {
   "cell_type": "code",
   "execution_count": 15,
   "metadata": {},
   "outputs": [],
   "source": [
    "pollution.loc[pollution['temp'] <=9, 'tmp_lvl']  = 'cold'"
   ]
  },
  {
   "cell_type": "code",
   "execution_count": 16,
   "metadata": {},
   "outputs": [],
   "source": [
    "pollution.loc[pollution['temp'] >= 25, 'tmp_lvl']  = 'hot'"
   ]
  },
  {
   "cell_type": "code",
   "execution_count": 17,
   "metadata": {},
   "outputs": [
    {
     "data": {
      "text/plain": [
       "warm    389\n",
       "cold    215\n",
       "hot     127\n",
       "Name: tmp_lvl, dtype: int64"
      ]
     },
     "execution_count": 17,
     "metadata": {},
     "output_type": "execute_result"
    }
   ],
   "source": [
    "pollution.loc[(pollution['temp'] < 25) & ( pollution['temp'] > 9), 'tmp_lvl']  = 'warm'\n",
    "pollution.tmp_lvl.value_counts()"
   ]
  },
  {
   "cell_type": "code",
   "execution_count": 19,
   "metadata": {},
   "outputs": [
    {
     "data": {
      "image/png": "[encoded data removed]",
      "text/plain": [
       "<Figure size 432x288 with 1 Axes>"
      ]
     },
     "metadata": {},
     "output_type": "display_data"
    }
   ],
   "source": [
    "pollution.tmp_lvl.hist();"
   ]
  },
  {
   "cell_type": "code",
   "execution_count": 20,
   "metadata": {},
   "outputs": [],
   "source": [
    "pollution['weathersit_1'] = pollution['weathersit'].apply(lambda x : \"Clear-Cloudy\" if x==1 else \"Mist-Cloudy\" if x == 2 else \"Light Rainy-Snowy\" if x == 3 else \"Heavy Rain-Snowy\")   "
   ]
  },
  {
   "cell_type": "markdown",
   "metadata": {},
   "source": [
    "Polution relation with weather, temperatur, hum and wind"
   ]
  },
  {
   "cell_type": "code",
   "execution_count": 114,
   "metadata": {},
   "outputs": [
    {
     "data": {
      "text/html": [
       "<div>\n",
       "<style scoped>\n",
       "    .dataframe tbody tr th:only-of-type {\n",
       "        vertical-align: middle;\n",
       "    }\n",
       "\n",
       "    .dataframe tbody tr th {\n",
       "        vertical-align: top;\n",
       "    }\n",
       "\n",
       "    .dataframe thead th {\n",
       "        text-align: right;\n",
       "    }\n",
       "</style>\n",
       "<table border=\"1\" class=\"dataframe\">\n",
       "  <thead>\n",
       "    <tr style=\"text-align: right;\">\n",
       "      <th></th>\n",
       "      <th>Unnamed: 0</th>\n",
       "      <th>instant</th>\n",
       "      <th>dteday</th>\n",
       "      <th>season</th>\n",
       "      <th>yr</th>\n",
       "      <th>mnth</th>\n",
       "      <th>holiday</th>\n",
       "      <th>weekday</th>\n",
       "      <th>workingday</th>\n",
       "      <th>weathersit</th>\n",
       "      <th>...</th>\n",
       "      <th>hum</th>\n",
       "      <th>windspeed</th>\n",
       "      <th>casual</th>\n",
       "      <th>registered</th>\n",
       "      <th>cnt</th>\n",
       "      <th>aqi_label</th>\n",
       "      <th>aqi_reading</th>\n",
       "      <th>aqi_label_1</th>\n",
       "      <th>weathersit_1</th>\n",
       "      <th>tmp_lvl</th>\n",
       "    </tr>\n",
       "  </thead>\n",
       "  <tbody>\n",
       "    <tr>\n",
       "      <th>0</th>\n",
       "      <td>1</td>\n",
       "      <td>2</td>\n",
       "      <td>2011-01-01</td>\n",
       "      <td>1</td>\n",
       "      <td>0</td>\n",
       "      <td>1</td>\n",
       "      <td>0</td>\n",
       "      <td>0</td>\n",
       "      <td>0</td>\n",
       "      <td>2</td>\n",
       "      <td>...</td>\n",
       "      <td>0.696087</td>\n",
       "      <td>0.248539</td>\n",
       "      <td>131</td>\n",
       "      <td>670</td>\n",
       "      <td>801</td>\n",
       "      <td>1</td>\n",
       "      <td>46</td>\n",
       "      <td>Good</td>\n",
       "      <td>Mist-Cloudy</td>\n",
       "      <td>warm</td>\n",
       "    </tr>\n",
       "    <tr>\n",
       "      <th>1</th>\n",
       "      <td>2</td>\n",
       "      <td>3</td>\n",
       "      <td>2011-01-02</td>\n",
       "      <td>1</td>\n",
       "      <td>0</td>\n",
       "      <td>1</td>\n",
       "      <td>0</td>\n",
       "      <td>1</td>\n",
       "      <td>1</td>\n",
       "      <td>1</td>\n",
       "      <td>...</td>\n",
       "      <td>0.437273</td>\n",
       "      <td>0.248309</td>\n",
       "      <td>120</td>\n",
       "      <td>1229</td>\n",
       "      <td>1349</td>\n",
       "      <td>1</td>\n",
       "      <td>39</td>\n",
       "      <td>Good</td>\n",
       "      <td>Clear-Cloudy</td>\n",
       "      <td>cold</td>\n",
       "    </tr>\n",
       "    <tr>\n",
       "      <th>2</th>\n",
       "      <td>12</td>\n",
       "      <td>13</td>\n",
       "      <td>2011-01-03</td>\n",
       "      <td>1</td>\n",
       "      <td>0</td>\n",
       "      <td>1</td>\n",
       "      <td>0</td>\n",
       "      <td>4</td>\n",
       "      <td>1</td>\n",
       "      <td>1</td>\n",
       "      <td>...</td>\n",
       "      <td>0.470417</td>\n",
       "      <td>0.301000</td>\n",
       "      <td>38</td>\n",
       "      <td>1368</td>\n",
       "      <td>1406</td>\n",
       "      <td>1</td>\n",
       "      <td>38</td>\n",
       "      <td>Good</td>\n",
       "      <td>Clear-Cloudy</td>\n",
       "      <td>cold</td>\n",
       "    </tr>\n",
       "    <tr>\n",
       "      <th>3</th>\n",
       "      <td>32</td>\n",
       "      <td>33</td>\n",
       "      <td>2011-01-04</td>\n",
       "      <td>1</td>\n",
       "      <td>0</td>\n",
       "      <td>2</td>\n",
       "      <td>0</td>\n",
       "      <td>3</td>\n",
       "      <td>1</td>\n",
       "      <td>2</td>\n",
       "      <td>...</td>\n",
       "      <td>0.775417</td>\n",
       "      <td>0.264308</td>\n",
       "      <td>72</td>\n",
       "      <td>1454</td>\n",
       "      <td>1526</td>\n",
       "      <td>1</td>\n",
       "      <td>50</td>\n",
       "      <td>Good</td>\n",
       "      <td>Mist-Cloudy</td>\n",
       "      <td>cold</td>\n",
       "    </tr>\n",
       "    <tr>\n",
       "      <th>4</th>\n",
       "      <td>33</td>\n",
       "      <td>34</td>\n",
       "      <td>2011-01-05</td>\n",
       "      <td>1</td>\n",
       "      <td>0</td>\n",
       "      <td>2</td>\n",
       "      <td>0</td>\n",
       "      <td>4</td>\n",
       "      <td>1</td>\n",
       "      <td>1</td>\n",
       "      <td>...</td>\n",
       "      <td>0.437826</td>\n",
       "      <td>0.277752</td>\n",
       "      <td>61</td>\n",
       "      <td>1489</td>\n",
       "      <td>1550</td>\n",
       "      <td>1</td>\n",
       "      <td>39</td>\n",
       "      <td>Good</td>\n",
       "      <td>Clear-Cloudy</td>\n",
       "      <td>cold</td>\n",
       "    </tr>\n",
       "  </tbody>\n",
       "</table>\n",
       "<p>5 rows × 22 columns</p>\n",
       "</div>"
      ],
      "text/plain": [
       "   Unnamed: 0  instant     dteday  season  yr  mnth  holiday  weekday  \\\n",
       "0           1        2 2011-01-01       1   0     1        0        0   \n",
       "1           2        3 2011-01-02       1   0     1        0        1   \n",
       "2          12       13 2011-01-03       1   0     1        0        4   \n",
       "3          32       33 2011-01-04       1   0     2        0        3   \n",
       "4          33       34 2011-01-05       1   0     2        0        4   \n",
       "\n",
       "   workingday  weathersit  ...       hum  windspeed  casual  registered   cnt  \\\n",
       "0           0           2  ...  0.696087   0.248539     131         670   801   \n",
       "1           1           1  ...  0.437273   0.248309     120        1229  1349   \n",
       "2           1           1  ...  0.470417   0.301000      38        1368  1406   \n",
       "3           1           2  ...  0.775417   0.264308      72        1454  1526   \n",
       "4           1           1  ...  0.437826   0.277752      61        1489  1550   \n",
       "\n",
       "   aqi_label  aqi_reading  aqi_label_1  weathersit_1 tmp_lvl  \n",
       "0          1           46         Good   Mist-Cloudy    warm  \n",
       "1          1           39         Good  Clear-Cloudy    cold  \n",
       "2          1           38         Good  Clear-Cloudy    cold  \n",
       "3          1           50         Good   Mist-Cloudy    cold  \n",
       "4          1           39         Good  Clear-Cloudy    cold  \n",
       "\n",
       "[5 rows x 22 columns]"
      ]
     },
     "execution_count": 114,
     "metadata": {},
     "output_type": "execute_result"
    }
   ],
   "source": [
    "pollution.head()"
   ]
  },
  {
   "cell_type": "code",
   "execution_count": 115,
   "metadata": {
    "scrolled": false
   },
   "outputs": [
    {
     "data": {
      "text/plain": [
       "Text(0.5, 0, 'pollution')"
      ]
     },
     "execution_count": 115,
     "metadata": {},
     "output_type": "execute_result"
    },
    {
     "data": {
      "image/png": "[encoded data removed]",
      "text/plain": [
       "<Figure size 576x432 with 1 Axes>"
      ]
     },
     "metadata": {},
     "output_type": "display_data"
    }
   ],
   "source": [
    "plt.figure(figsize=(8, 6))\n",
    "sb.barplot(x=\"aqi_label_1\", y=\"hum\", hue = \"weathersit_1\", data = pollution)\n",
    "#plt.savefig(\"fixed Acidity_q_type.png\")\n",
    "plt.ylabel(\"humidity\", size=14)\n",
    "plt.xlabel(\"pollution\", size=14)"
   ]
  },
  {
   "cell_type": "code",
   "execution_count": 116,
   "metadata": {},
   "outputs": [
    {
     "data": {
      "text/plain": [
       "Text(0.5, 0, 'pollution')"
      ]
     },
     "execution_count": 116,
     "metadata": {},
     "output_type": "execute_result"
    },
    {
     "data": {
      "image/png": "[encoded data removed]",
      "text/plain": [
       "<Figure size 576x432 with 1 Axes>"
      ]
     },
     "metadata": {},
     "output_type": "display_data"
    }
   ],
   "source": [
    "plt.figure(figsize=(8, 6))\n",
    "sb.barplot(x=\"aqi_label_1\", y=\"hum\", data = pollution)\n",
    "#plt.savefig(\"fixed Acidity_q_type.png\")\n",
    "plt.ylabel(\"humidity\", size=14)\n",
    "plt.xlabel(\"pollution\", size=14)"
   ]
  },
  {
   "cell_type": "code",
   "execution_count": 117,
   "metadata": {
    "scrolled": false
   },
   "outputs": [
    {
     "data": {
      "text/plain": [
       "Text(0.5, 0, 'weather')"
      ]
     },
     "execution_count": 117,
     "metadata": {},
     "output_type": "execute_result"
    },
    {
     "data": {
      "image/png": "[encoded data removed]",
      "text/plain": [
       "<Figure size 576x432 with 1 Axes>"
      ]
     },
     "metadata": {},
     "output_type": "display_data"
    }
   ],
   "source": [
    "plt.figure(figsize=(8, 6))\n",
    "sb.barplot(x=\"weathersit_1\", y=\"hum\", data = pollution)\n",
    "#plt.savefig(\"fixed Acidity_q_type.png\")\n",
    "plt.ylabel(\"humidity\", size=14)\n",
    "plt.xlabel(\"weather\", size=14)"
   ]
  },
  {
   "cell_type": "code",
   "execution_count": 84,
   "metadata": {
    "scrolled": false
   },
   "outputs": [
    {
     "data": {
      "text/plain": [
       "Text(0.5, 0, 'weather')"
      ]
     },
     "execution_count": 84,
     "metadata": {},
     "output_type": "execute_result"
    },
    {
     "data": {
      "image/png": "[encoded data removed]",
      "text/plain": [
       "<Figure size 576x432 with 1 Axes>"
      ]
     },
     "metadata": {},
     "output_type": "display_data"
    }
   ],
   "source": [
    "plt.figure(figsize=(8, 6))\n",
    "sb.barplot(x=\"weathersit_1\", y=\"aqi_reading\", data = pollution, order = [\"Clear-Cloudy\", \"Mist-Cloudy\", \"Light Rainy-Snowy\"], palette= \"BuGn\")\n",
    "#plt.savefig(\"fixed Acidity_q_type.png\")\n",
    "plt.ylabel(\"pollution\", size=14)\n",
    "plt.xlabel(\"weather\", size=14)"
   ]
  },
  {
   "cell_type": "code",
   "execution_count": 119,
   "metadata": {
    "scrolled": false
   },
   "outputs": [
    {
     "data": {
      "text/plain": [
       "Text(0.5, 0, 'temperature')"
      ]
     },
     "execution_count": 119,
     "metadata": {},
     "output_type": "execute_result"
    },
    {
     "data": {
      "image/png": "[encoded data removed]",
      "text/plain": [
       "<Figure size 576x432 with 1 Axes>"
      ]
     },
     "metadata": {},
     "output_type": "display_data"
    }
   ],
   "source": [
    "plt.figure(figsize=(8, 6))\n",
    "sb.barplot(x=\"tmp_lvl\", y=\"aqi_reading\", data = pollution, order = [\"hot\", \"warm\", \"cold\"])\n",
    "#plt.savefig(\"fixed Acidity_q_type.png\")\n",
    "plt.ylabel(\"pollution\", size=14)\n",
    "plt.xlabel(\"temperature\", size=14)"
   ]
  },
  {
   "cell_type": "code",
   "execution_count": 120,
   "metadata": {},
   "outputs": [
    {
     "data": {
      "text/plain": [
       "Index(['Unnamed: 0', 'instant', 'dteday', 'season', 'yr', 'mnth', 'holiday',\n",
       "       'weekday', 'workingday', 'weathersit', 'temp', 'atemp', 'hum',\n",
       "       'windspeed', 'casual', 'registered', 'cnt', 'aqi_label', 'aqi_reading',\n",
       "       'aqi_label_1', 'weathersit_1', 'tmp_lvl'],\n",
       "      dtype='object')"
      ]
     },
     "execution_count": 120,
     "metadata": {},
     "output_type": "execute_result"
    }
   ],
   "source": [
    "pollution.columns"
   ]
  },
  {
   "cell_type": "code",
   "execution_count": 87,
   "metadata": {
    "scrolled": false
   },
   "outputs": [
    {
     "data": {
      "text/plain": [
       "Text(0.5, 0, 'pollution')"
      ]
     },
     "execution_count": 87,
     "metadata": {},
     "output_type": "execute_result"
    },
    {
     "data": {
      "image/png": "[encoded data removed]",
      "text/plain": [
       "<Figure size 576x432 with 1 Axes>"
      ]
     },
     "metadata": {},
     "output_type": "display_data"
    }
   ],
   "source": [
    "plt.figure(figsize=(8, 6))\n",
    "sb.barplot(x=\"aqi_label_1\", y=\"windspeed\", data = pollution, palette = \"BuGn\")\n",
    "#plt.savefig(\"fixed Acidity_q_type.png\")\n",
    "plt.ylabel(\"windspeed\", size=14)\n",
    "plt.xlabel(\"pollution\", size=14)"
   ]
  },
  {
   "cell_type": "markdown",
   "metadata": {},
   "source": [
    "month- pollution"
   ]
  },
  {
   "cell_type": "code",
   "execution_count": 122,
   "metadata": {},
   "outputs": [
    {
     "data": {
      "text/plain": [
       "Index(['Unnamed: 0', 'instant', 'dteday', 'season', 'yr', 'mnth', 'holiday',\n",
       "       'weekday', 'workingday', 'weathersit', 'temp', 'atemp', 'hum',\n",
       "       'windspeed', 'casual', 'registered', 'cnt', 'aqi_label', 'aqi_reading',\n",
       "       'aqi_label_1', 'weathersit_1', 'tmp_lvl'],\n",
       "      dtype='object')"
      ]
     },
     "execution_count": 122,
     "metadata": {},
     "output_type": "execute_result"
    }
   ],
   "source": [
    "pollution.columns"
   ]
  },
  {
   "cell_type": "code",
   "execution_count": 123,
   "metadata": {},
   "outputs": [
    {
     "data": {
      "text/plain": [
       "Text(0.5, 0, 'pollution')"
      ]
     },
     "execution_count": 123,
     "metadata": {},
     "output_type": "execute_result"
    },
    {
     "data": {
      "image/png": "[encoded data removed]",
      "text/plain": [
       "<Figure size 576x432 with 1 Axes>"
      ]
     },
     "metadata": {},
     "output_type": "display_data"
    }
   ],
   "source": [
    "plt.figure(figsize=(8, 6))\n",
    "sb.barplot(x=\"aqi_label_1\", y=\"cnt\", data=pollution)\n",
    "#plt.savefig(\"fixed Acidity_q_type.png\")\n",
    "plt.ylabel(\"demand\", size=14)\n",
    "plt.xlabel(\"pollution\", size=14)"
   ]
  },
  {
   "cell_type": "code",
   "execution_count": 124,
   "metadata": {
    "scrolled": false
   },
   "outputs": [
    {
     "data": {
      "image/png": "[encoded data removed]",
      "text/plain": [
       "<Figure size 432x288 with 1 Axes>"
      ]
     },
     "metadata": {},
     "output_type": "display_data"
    }
   ],
   "source": [
    "ax = sb.boxplot(x=\"aqi_label_1\", y=\"cnt\", hue=\"weathersit_1\",data=pollution,linewidth=2.5)"
   ]
  },
  {
   "cell_type": "code",
   "execution_count": 127,
   "metadata": {},
   "outputs": [
    {
     "data": {
      "image/png": "[encoded data removed]",
      "text/plain": [
       "<Figure size 432x288 with 1 Axes>"
      ]
     },
     "metadata": {},
     "output_type": "display_data"
    }
   ],
   "source": [
    "ax = sb.boxplot(x=\"aqi_label_1\", y=\"temp\", hue=\"yr\", data=pollution,linewidth=2.5)"
   ]
  },
  {
   "cell_type": "code",
   "execution_count": 128,
   "metadata": {
    "scrolled": true
   },
   "outputs": [
    {
     "data": {
      "image/png": "[encoded data removed]",
      "text/plain": [
       "<Figure size 432x288 with 1 Axes>"
      ]
     },
     "metadata": {},
     "output_type": "display_data"
    }
   ],
   "source": [
    "ax = sb.boxplot(x=\"aqi_label_1\", y=\"cnt\", hue=\"yr\",\n",
    "\n",
    "                 data=pollution,linewidth=2.5)"
   ]
  },
  {
   "cell_type": "code",
   "execution_count": 129,
   "metadata": {},
   "outputs": [
    {
     "data": {
      "image/png": "[encoded data removed]",
      "text/plain": [
       "<Figure size 432x288 with 1 Axes>"
      ]
     },
     "metadata": {},
     "output_type": "display_data"
    }
   ],
   "source": [
    "sb.lineplot(x=\"aqi_label_1\", y=\"cnt\", hue=\"yr\", data=pollution,linewidth=2.5)\n",
    "ax = sb.boxplot(x=\"aqi_label_1\", y=\"cnt\", hue=\"yr\",\n",
    "\n",
    "                 data=pollution,linewidth=2.5)"
   ]
  },
  {
   "cell_type": "code",
   "execution_count": null,
   "metadata": {},
   "outputs": [],
   "source": []
  },
  {
   "cell_type": "code",
   "execution_count": null,
   "metadata": {},
   "outputs": [],
   "source": []
  }
 ],
 "metadata": {
  "kernelspec": {
   "display_name": "Python 3",
   "language": "python",
   "name": "python3"
  },
  "language_info": {
   "codemirror_mode": {
    "name": "ipython",
    "version": 3
   },
   "file_extension": ".py",
   "mimetype": "text/x-python",
   "name": "python",
   "nbconvert_exporter": "python",
   "pygments_lexer": "ipython3",
   "version": "3.8.5"
  }
 },
 "nbformat": 4,
 "nbformat_minor": 4
}
